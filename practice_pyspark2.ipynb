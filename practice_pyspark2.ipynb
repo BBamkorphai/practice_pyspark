{
  "nbformat": 4,
  "nbformat_minor": 0,
  "metadata": {
    "colab": {
      "provenance": []
    },
    "kernelspec": {
      "name": "python3",
      "display_name": "Python 3"
    },
    "language_info": {
      "name": "python"
    }
  },
  "cells": [
    {
      "cell_type": "code",
      "execution_count": 1,
      "metadata": {
        "colab": {
          "base_uri": "https://localhost:8080/"
        },
        "id": "dPbeSA2CFk8H",
        "outputId": "d0e575ca-2daa-423d-e3e2-9175a141d0fa"
      },
      "outputs": [
        {
          "output_type": "stream",
          "name": "stdout",
          "text": [
            "Collecting findspark\n",
            "  Downloading findspark-2.0.1-py2.py3-none-any.whl.metadata (352 bytes)\n",
            "Downloading findspark-2.0.1-py2.py3-none-any.whl (4.4 kB)\n",
            "Installing collected packages: findspark\n",
            "Successfully installed findspark-2.0.1\n",
            "+----------+------+-------------+-------+----------+------+------------+----------------+---------------+--------------+------------+----------------+-----------+-----------+---------------+--------------+----------------+--------------------+--------------+------------+-----+\n",
            "|customerID|gender|SeniorCitizen|Partner|Dependents|tenure|PhoneService|   MultipleLines|InternetService|OnlineSecurity|OnlineBackup|DeviceProtection|TechSupport|StreamingTV|StreamingMovies|      Contract|PaperlessBilling|       PaymentMethod|MonthlyCharges|TotalCharges|Churn|\n",
            "+----------+------+-------------+-------+----------+------+------------+----------------+---------------+--------------+------------+----------------+-----------+-----------+---------------+--------------+----------------+--------------------+--------------+------------+-----+\n",
            "|7590-VHVEG|Female|            0|    Yes|        No|     1|          No|No phone service|            DSL|            No|         Yes|              No|         No|         No|             No|Month-to-month|             Yes|    Electronic check|         29.85|       29.85|   No|\n",
            "|5575-GNVDE|  Male|            0|     No|        No|    34|         Yes|              No|            DSL|           Yes|          No|             Yes|         No|         No|             No|      One year|              No|        Mailed check|         56.95|      1889.5|   No|\n",
            "|3668-QPYBK|  Male|            0|     No|        No|     2|         Yes|              No|            DSL|           Yes|         Yes|              No|         No|         No|             No|Month-to-month|             Yes|        Mailed check|         53.85|      108.15|  Yes|\n",
            "|7795-CFOCW|  Male|            0|     No|        No|    45|          No|No phone service|            DSL|           Yes|          No|             Yes|        Yes|         No|             No|      One year|              No|Bank transfer (au...|          42.3|     1840.75|   No|\n",
            "|9237-HQITU|Female|            0|     No|        No|     2|         Yes|              No|    Fiber optic|            No|          No|              No|         No|         No|             No|Month-to-month|             Yes|    Electronic check|          70.7|      151.65|  Yes|\n",
            "+----------+------+-------------+-------+----------+------+------------+----------------+---------------+--------------+------------+----------------+-----------+-----------+---------------+--------------+----------------+--------------------+--------------+------------+-----+\n",
            "\n"
          ]
        }
      ],
      "source": [
        "!pip install findspark\n",
        "# import all\n",
        "import findspark\n",
        "findspark.init()\n",
        "import kagglehub\n",
        "import pyspark\n",
        "from pyspark.sql.types import *\n",
        "from pyspark.sql.functions import *\n",
        "\n",
        "# import select functions and types\n",
        "from pyspark.sql.types import IntegerType, StringType\n",
        "from pyspark.sql.functions import floor, round\n",
        "\n",
        "# Import SparkSession\n",
        "from pyspark.sql import SparkSession\n",
        "\n",
        "# Create a SparkSession\n",
        "spark = SparkSession.builder.appName(\"CustomerSupportAnalysis\").getOrCreate()\n",
        "\n",
        "# Download latest version\n",
        "path = kagglehub.dataset_download(\"blastchar/telco-customer-churn\")\n",
        "path += \"/WA_Fn-UseC_-Telco-Customer-Churn.csv\"\n",
        "\n",
        "df = spark.read.csv(path, header=True, inferSchema=True)\n",
        "df.limit(5).show()\n"
      ]
    },
    {
      "cell_type": "code",
      "source": [
        "df.groupBy(\"gender\").count().show()"
      ],
      "metadata": {
        "colab": {
          "base_uri": "https://localhost:8080/"
        },
        "id": "8DU6smytG0El",
        "outputId": "45a23e92-cbd2-4bc6-c043-c765d0257f6f"
      },
      "execution_count": 2,
      "outputs": [
        {
          "output_type": "stream",
          "name": "stdout",
          "text": [
            "+------+-----+\n",
            "|gender|count|\n",
            "+------+-----+\n",
            "|Female| 3488|\n",
            "|  Male| 3555|\n",
            "+------+-----+\n",
            "\n"
          ]
        }
      ]
    },
    {
      "cell_type": "code",
      "source": [
        "for col in df.columns:\n",
        "  df.groupBy(col).count().orderBy(desc(\"count\")).show()"
      ],
      "metadata": {
        "colab": {
          "base_uri": "https://localhost:8080/"
        },
        "id": "vrvXJuU-KVcT",
        "outputId": "365e00d1-1d6f-484d-c723-3d8698b5a812"
      },
      "execution_count": 3,
      "outputs": [
        {
          "output_type": "stream",
          "name": "stdout",
          "text": [
            "+----------+-----+\n",
            "|customerID|count|\n",
            "+----------+-----+\n",
            "|3668-QPYBK|    1|\n",
            "|6234-RAAPL|    1|\n",
            "|1894-IGFSG|    1|\n",
            "|6982-SSHFK|    1|\n",
            "|5859-HZYLF|    1|\n",
            "|6479-OAUSD|    1|\n",
            "|2592-YKDIF|    1|\n",
            "|6718-BDGHG|    1|\n",
            "|3195-TQDZX|    1|\n",
            "|4248-QPAVC|    1|\n",
            "|5668-MEISB|    1|\n",
            "|5802-ADBRC|    1|\n",
            "|2712-SYWAY|    1|\n",
            "|2011-TRQYE|    1|\n",
            "|7244-KXYZN|    1|\n",
            "|0953-LGOVU|    1|\n",
            "|3623-FQBOX|    1|\n",
            "|3692-JHONH|    1|\n",
            "|3528-HFRIQ|    1|\n",
            "|7661-CPURM|    1|\n",
            "+----------+-----+\n",
            "only showing top 20 rows\n",
            "\n",
            "+------+-----+\n",
            "|gender|count|\n",
            "+------+-----+\n",
            "|  Male| 3555|\n",
            "|Female| 3488|\n",
            "+------+-----+\n",
            "\n",
            "+-------------+-----+\n",
            "|SeniorCitizen|count|\n",
            "+-------------+-----+\n",
            "|            0| 5901|\n",
            "|            1| 1142|\n",
            "+-------------+-----+\n",
            "\n",
            "+-------+-----+\n",
            "|Partner|count|\n",
            "+-------+-----+\n",
            "|     No| 3641|\n",
            "|    Yes| 3402|\n",
            "+-------+-----+\n",
            "\n",
            "+----------+-----+\n",
            "|Dependents|count|\n",
            "+----------+-----+\n",
            "|        No| 4933|\n",
            "|       Yes| 2110|\n",
            "+----------+-----+\n",
            "\n",
            "+------+-----+\n",
            "|tenure|count|\n",
            "+------+-----+\n",
            "|     1|  613|\n",
            "|    72|  362|\n",
            "|     2|  238|\n",
            "|     3|  200|\n",
            "|     4|  176|\n",
            "|    71|  170|\n",
            "|     5|  133|\n",
            "|     7|  131|\n",
            "|     8|  123|\n",
            "|     9|  119|\n",
            "|    70|  119|\n",
            "|    12|  117|\n",
            "|    10|  116|\n",
            "|     6|  110|\n",
            "|    13|  109|\n",
            "|    68|  100|\n",
            "|    15|   99|\n",
            "|    11|   99|\n",
            "|    67|   98|\n",
            "|    18|   97|\n",
            "+------+-----+\n",
            "only showing top 20 rows\n",
            "\n",
            "+------------+-----+\n",
            "|PhoneService|count|\n",
            "+------------+-----+\n",
            "|         Yes| 6361|\n",
            "|          No|  682|\n",
            "+------------+-----+\n",
            "\n",
            "+----------------+-----+\n",
            "|   MultipleLines|count|\n",
            "+----------------+-----+\n",
            "|              No| 3390|\n",
            "|             Yes| 2971|\n",
            "|No phone service|  682|\n",
            "+----------------+-----+\n",
            "\n",
            "+---------------+-----+\n",
            "|InternetService|count|\n",
            "+---------------+-----+\n",
            "|    Fiber optic| 3096|\n",
            "|            DSL| 2421|\n",
            "|             No| 1526|\n",
            "+---------------+-----+\n",
            "\n",
            "+-------------------+-----+\n",
            "|     OnlineSecurity|count|\n",
            "+-------------------+-----+\n",
            "|                 No| 3498|\n",
            "|                Yes| 2019|\n",
            "|No internet service| 1526|\n",
            "+-------------------+-----+\n",
            "\n",
            "+-------------------+-----+\n",
            "|       OnlineBackup|count|\n",
            "+-------------------+-----+\n",
            "|                 No| 3088|\n",
            "|                Yes| 2429|\n",
            "|No internet service| 1526|\n",
            "+-------------------+-----+\n",
            "\n",
            "+-------------------+-----+\n",
            "|   DeviceProtection|count|\n",
            "+-------------------+-----+\n",
            "|                 No| 3095|\n",
            "|                Yes| 2422|\n",
            "|No internet service| 1526|\n",
            "+-------------------+-----+\n",
            "\n",
            "+-------------------+-----+\n",
            "|        TechSupport|count|\n",
            "+-------------------+-----+\n",
            "|                 No| 3473|\n",
            "|                Yes| 2044|\n",
            "|No internet service| 1526|\n",
            "+-------------------+-----+\n",
            "\n",
            "+-------------------+-----+\n",
            "|        StreamingTV|count|\n",
            "+-------------------+-----+\n",
            "|                 No| 2810|\n",
            "|                Yes| 2707|\n",
            "|No internet service| 1526|\n",
            "+-------------------+-----+\n",
            "\n",
            "+-------------------+-----+\n",
            "|    StreamingMovies|count|\n",
            "+-------------------+-----+\n",
            "|                 No| 2785|\n",
            "|                Yes| 2732|\n",
            "|No internet service| 1526|\n",
            "+-------------------+-----+\n",
            "\n",
            "+--------------+-----+\n",
            "|      Contract|count|\n",
            "+--------------+-----+\n",
            "|Month-to-month| 3875|\n",
            "|      Two year| 1695|\n",
            "|      One year| 1473|\n",
            "+--------------+-----+\n",
            "\n",
            "+----------------+-----+\n",
            "|PaperlessBilling|count|\n",
            "+----------------+-----+\n",
            "|             Yes| 4171|\n",
            "|              No| 2872|\n",
            "+----------------+-----+\n",
            "\n",
            "+--------------------+-----+\n",
            "|       PaymentMethod|count|\n",
            "+--------------------+-----+\n",
            "|    Electronic check| 2365|\n",
            "|        Mailed check| 1612|\n",
            "|Bank transfer (au...| 1544|\n",
            "|Credit card (auto...| 1522|\n",
            "+--------------------+-----+\n",
            "\n",
            "+--------------+-----+\n",
            "|MonthlyCharges|count|\n",
            "+--------------+-----+\n",
            "|         20.05|   61|\n",
            "|         19.85|   45|\n",
            "|         19.95|   44|\n",
            "|          19.9|   44|\n",
            "|         19.65|   43|\n",
            "|          19.7|   43|\n",
            "|          20.0|   43|\n",
            "|         19.55|   40|\n",
            "|         20.15|   40|\n",
            "|         19.75|   39|\n",
            "|         20.25|   39|\n",
            "|          19.8|   38|\n",
            "|         20.35|   38|\n",
            "|          19.6|   37|\n",
            "|          20.1|   37|\n",
            "|          20.2|   35|\n",
            "|          19.5|   32|\n",
            "|         20.45|   31|\n",
            "|          19.4|   31|\n",
            "|          20.4|   30|\n",
            "+--------------+-----+\n",
            "only showing top 20 rows\n",
            "\n",
            "+------------+-----+\n",
            "|TotalCharges|count|\n",
            "+------------+-----+\n",
            "|        20.2|   11|\n",
            "|            |   11|\n",
            "|       19.75|    9|\n",
            "|        19.9|    8|\n",
            "|       20.05|    8|\n",
            "|       19.65|    8|\n",
            "|       19.55|    7|\n",
            "|        45.3|    7|\n",
            "|       20.25|    6|\n",
            "|       20.15|    6|\n",
            "|       19.45|    6|\n",
            "|        20.3|    5|\n",
            "|       20.45|    5|\n",
            "|        20.5|    4|\n",
            "|        19.3|    4|\n",
            "|        70.6|    4|\n",
            "|        20.4|    4|\n",
            "|        19.4|    4|\n",
            "|        19.5|    4|\n",
            "|        44.4|    4|\n",
            "+------------+-----+\n",
            "only showing top 20 rows\n",
            "\n",
            "+-----+-----+\n",
            "|Churn|count|\n",
            "+-----+-----+\n",
            "|   No| 5174|\n",
            "|  Yes| 1869|\n",
            "+-----+-----+\n",
            "\n"
          ]
        }
      ]
    },
    {
      "cell_type": "code",
      "source": [
        "from pyspark.sql import Window\n",
        "from pyspark.sql.functions import row_number, desc\n",
        "window = Window.partitionBy(\"Churn\").orderBy(desc(\"tenure\")) # Call desc within orderBy\n",
        "window_df = df.withColumn(\"row_number\", row_number().over(window)).show()"
      ],
      "metadata": {
        "id": "PhqGyG3EMO1T",
        "colab": {
          "base_uri": "https://localhost:8080/"
        },
        "outputId": "e82beae6-7ec0-4232-f798-7711b73e82f2"
      },
      "execution_count": 4,
      "outputs": [
        {
          "output_type": "stream",
          "name": "stdout",
          "text": [
            "+----------+------+-------------+-------+----------+------+------------+----------------+---------------+-------------------+-------------------+-------------------+-------------------+-------------------+-------------------+--------+----------------+--------------------+--------------+------------+-----+----------+\n",
            "|customerID|gender|SeniorCitizen|Partner|Dependents|tenure|PhoneService|   MultipleLines|InternetService|     OnlineSecurity|       OnlineBackup|   DeviceProtection|        TechSupport|        StreamingTV|    StreamingMovies|Contract|PaperlessBilling|       PaymentMethod|MonthlyCharges|TotalCharges|Churn|row_number|\n",
            "+----------+------+-------------+-------+----------+------+------------+----------------+---------------+-------------------+-------------------+-------------------+-------------------+-------------------+-------------------+--------+----------------+--------------------+--------------+------------+-----+----------+\n",
            "|5248-YGIJN|  Male|            0|    Yes|        No|    72|         Yes|             Yes|            DSL|                Yes|                Yes|                Yes|                Yes|                Yes|                Yes|Two year|             Yes|Credit card (auto...|         90.25|     6369.45|   No|         1|\n",
            "|6234-RAAPL|Female|            0|    Yes|       Yes|    72|         Yes|             Yes|    Fiber optic|                Yes|                Yes|                 No|                Yes|                Yes|                 No|Two year|              No|Bank transfer (au...|          99.9|      7251.7|   No|         2|\n",
            "|5954-BDFSG|Female|            0|     No|        No|    72|         Yes|             Yes|    Fiber optic|                 No|                 No|                Yes|                Yes|                Yes|                Yes|Two year|             Yes|Credit card (auto...|         107.5|      7853.7|   No|         3|\n",
            "|0526-SXDJP|  Male|            0|    Yes|        No|    72|          No|No phone service|            DSL|                Yes|                Yes|                Yes|                 No|                 No|                 No|Two year|              No|Bank transfer (au...|          42.1|        2962|   No|         4|\n",
            "|9848-JQJTX|  Male|            0|     No|        No|    72|         Yes|             Yes|    Fiber optic|                 No|                Yes|                Yes|                 No|                Yes|                Yes|Two year|             Yes|Bank transfer (au...|         100.9|     7459.05|   No|         5|\n",
            "|6728-DKUCO|Female|            0|    Yes|       Yes|    72|         Yes|             Yes|    Fiber optic|                Yes|                Yes|                 No|                 No|                Yes|                Yes|One year|             Yes|    Electronic check|        104.15|     7303.05|   No|         6|\n",
            "|2848-YXSMW|  Male|            0|    Yes|       Yes|    72|         Yes|              No|             No|No internet service|No internet service|No internet service|No internet service|No internet service|No internet service|Two year|              No|Credit card (auto...|          19.4|     1363.25|   No|         7|\n",
            "|6734-PSBAW|  Male|            0|    Yes|        No|    72|         Yes|             Yes|             No|No internet service|No internet service|No internet service|No internet service|No internet service|No internet service|Two year|             Yes|Bank transfer (au...|         23.55|     1723.95|   No|         8|\n",
            "|3146-MSEGF|Female|            1|    Yes|       Yes|    72|         Yes|             Yes|            DSL|                Yes|                Yes|                Yes|                Yes|                Yes|                Yes|Two year|             Yes|Credit card (auto...|         88.05|     6425.65|   No|         9|\n",
            "|5997-OPVFA|  Male|            0|    Yes|        No|    72|         Yes|             Yes|            DSL|                Yes|                Yes|                Yes|                Yes|                Yes|                Yes|Two year|             Yes|Bank transfer (au...|         89.05|     6254.45|   No|        10|\n",
            "|9680-NIAUV|Female|            0|    Yes|       Yes|    72|         Yes|             Yes|    Fiber optic|                Yes|                Yes|                Yes|                 No|                Yes|                Yes|Two year|              No|Credit card (auto...|         109.7|      8129.3|   No|        11|\n",
            "|7255-SSFBC|  Male|            0|    Yes|       Yes|    72|         Yes|             Yes|    Fiber optic|                 No|                Yes|                Yes|                Yes|                Yes|                Yes|Two year|             Yes|Bank transfer (au...|        112.25|     8041.65|   No|        12|\n",
            "|6348-SNFUS|  Male|            0|    Yes|       Yes|    72|          No|No phone service|            DSL|                Yes|                Yes|                Yes|                Yes|                 No|                Yes|Two year|             Yes|Credit card (auto...|         55.45|      4179.2|   No|        13|\n",
            "|9286-BHDQG|  Male|            0|    Yes|       Yes|    72|          No|No phone service|            DSL|                Yes|                Yes|                Yes|                Yes|                 No|                 No|Two year|              No|Credit card (auto...|         45.25|      3139.8|   No|        14|\n",
            "|7083-MIOPC|Female|            0|     No|        No|    72|         Yes|              No|             No|No internet service|No internet service|No internet service|No internet service|No internet service|No internet service|Two year|              No|Credit card (auto...|         20.25|      1566.9|   No|        15|\n",
            "|7301-ABVAD|Female|            0|     No|        No|    72|         Yes|             Yes|            DSL|                 No|                Yes|                Yes|                Yes|                Yes|                Yes|Two year|              No|Bank transfer (au...|          86.6|      6350.5|   No|        16|\n",
            "|6614-FHDBO|  Male|            0|     No|        No|    72|         Yes|             Yes|    Fiber optic|                 No|                Yes|                Yes|                Yes|                Yes|                Yes|Two year|              No|Bank transfer (au...|         109.2|      7878.3|   No|        17|\n",
            "|9880-TDQAC|Female|            0|    Yes|       Yes|    72|          No|No phone service|            DSL|                 No|                Yes|                Yes|                Yes|                Yes|                Yes|Two year|             Yes|    Electronic check|          60.0|        4264|   No|        18|\n",
            "|3520-FJGCV|  Male|            0|    Yes|       Yes|    72|         Yes|             Yes|    Fiber optic|                Yes|                Yes|                Yes|                Yes|                Yes|                Yes|Two year|             Yes|Credit card (auto...|         112.6|     8126.65|   No|        19|\n",
            "|8204-YJCLA|  Male|            1|    Yes|       Yes|    72|          No|No phone service|            DSL|                Yes|                Yes|                Yes|                Yes|                Yes|                Yes|Two year|             Yes|Bank transfer (au...|          64.8|     4732.35|   No|        20|\n",
            "+----------+------+-------------+-------+----------+------+------------+----------------+---------------+-------------------+-------------------+-------------------+-------------------+-------------------+-------------------+--------+----------------+--------------------+--------------+------------+-----+----------+\n",
            "only showing top 20 rows\n",
            "\n"
          ]
        }
      ]
    },
    {
      "cell_type": "code",
      "source": [
        "window_df = df.withColumn(\"row_number\", row_number().over(window))\n",
        "window_df.filter(window_df[\"row_number\"] <= 3).show()"
      ],
      "metadata": {
        "colab": {
          "base_uri": "https://localhost:8080/"
        },
        "id": "wNcpwpgPiXhs",
        "outputId": "c9e9d68f-34d6-4f1a-81ba-7f950085a210"
      },
      "execution_count": 5,
      "outputs": [
        {
          "output_type": "stream",
          "name": "stdout",
          "text": [
            "+----------+------+-------------+-------+----------+------+------------+-------------+---------------+--------------+------------+----------------+-----------+-----------+---------------+--------+----------------+--------------------+--------------+------------+-----+----------+\n",
            "|customerID|gender|SeniorCitizen|Partner|Dependents|tenure|PhoneService|MultipleLines|InternetService|OnlineSecurity|OnlineBackup|DeviceProtection|TechSupport|StreamingTV|StreamingMovies|Contract|PaperlessBilling|       PaymentMethod|MonthlyCharges|TotalCharges|Churn|row_number|\n",
            "+----------+------+-------------+-------+----------+------+------------+-------------+---------------+--------------+------------+----------------+-----------+-----------+---------------+--------+----------------+--------------------+--------------+------------+-----+----------+\n",
            "|5248-YGIJN|  Male|            0|    Yes|        No|    72|         Yes|          Yes|            DSL|           Yes|         Yes|             Yes|        Yes|        Yes|            Yes|Two year|             Yes|Credit card (auto...|         90.25|     6369.45|   No|         1|\n",
            "|6234-RAAPL|Female|            0|    Yes|       Yes|    72|         Yes|          Yes|    Fiber optic|           Yes|         Yes|              No|        Yes|        Yes|             No|Two year|              No|Bank transfer (au...|          99.9|      7251.7|   No|         2|\n",
            "|5954-BDFSG|Female|            0|     No|        No|    72|         Yes|          Yes|    Fiber optic|            No|          No|             Yes|        Yes|        Yes|            Yes|Two year|             Yes|Credit card (auto...|         107.5|      7853.7|   No|         3|\n",
            "|8809-RIHDD|  Male|            0|    Yes|       Yes|    72|         Yes|          Yes|    Fiber optic|            No|         Yes|             Yes|         No|        Yes|            Yes|Two year|             Yes|    Electronic check|         103.4|     7372.65|  Yes|         1|\n",
            "|0917-EZOLA|  Male|            1|    Yes|        No|    72|         Yes|          Yes|    Fiber optic|            No|         Yes|             Yes|         No|        Yes|            Yes|Two year|             Yes|Bank transfer (au...|        104.15|     7689.95|  Yes|         2|\n",
            "|3886-CERTZ|Female|            0|    Yes|        No|    72|         Yes|          Yes|    Fiber optic|            No|         Yes|             Yes|        Yes|        Yes|            Yes|One year|             Yes|    Electronic check|        109.25|      8109.8|  Yes|         3|\n",
            "+----------+------+-------------+-------+----------+------+------------+-------------+---------------+--------------+------------+----------------+-----------+-----------+---------------+--------+----------------+--------------------+--------------+------------+-----+----------+\n",
            "\n"
          ]
        }
      ]
    },
    {
      "cell_type": "code",
      "source": [
        "churn_df = window_df.filter(window_df[\"churn\"] == \"Yes\").limit(10).show()"
      ],
      "metadata": {
        "colab": {
          "base_uri": "https://localhost:8080/"
        },
        "id": "5gJBce3GI-FI",
        "outputId": "6766294b-09e9-4e51-b559-d008e191e6a7"
      },
      "execution_count": 6,
      "outputs": [
        {
          "output_type": "stream",
          "name": "stdout",
          "text": [
            "+----------+------+-------------+-------+----------+------+------------+----------------+---------------+--------------+------------+----------------+-----------+-----------+---------------+--------------+----------------+--------------------+--------------+------------+-----+----------+\n",
            "|customerID|gender|SeniorCitizen|Partner|Dependents|tenure|PhoneService|   MultipleLines|InternetService|OnlineSecurity|OnlineBackup|DeviceProtection|TechSupport|StreamingTV|StreamingMovies|      Contract|PaperlessBilling|       PaymentMethod|MonthlyCharges|TotalCharges|Churn|row_number|\n",
            "+----------+------+-------------+-------+----------+------+------------+----------------+---------------+--------------+------------+----------------+-----------+-----------+---------------+--------------+----------------+--------------------+--------------+------------+-----+----------+\n",
            "|8809-RIHDD|  Male|            0|    Yes|       Yes|    72|         Yes|             Yes|    Fiber optic|            No|         Yes|             Yes|         No|        Yes|            Yes|      Two year|             Yes|    Electronic check|         103.4|     7372.65|  Yes|         1|\n",
            "|0917-EZOLA|  Male|            1|    Yes|        No|    72|         Yes|             Yes|    Fiber optic|            No|         Yes|             Yes|         No|        Yes|            Yes|      Two year|             Yes|Bank transfer (au...|        104.15|     7689.95|  Yes|         2|\n",
            "|3886-CERTZ|Female|            0|    Yes|        No|    72|         Yes|             Yes|    Fiber optic|            No|         Yes|             Yes|        Yes|        Yes|            Yes|      One year|             Yes|    Electronic check|        109.25|      8109.8|  Yes|         3|\n",
            "|8580-QVLOC|Female|            1|    Yes|       Yes|    72|         Yes|             Yes|            DSL|           Yes|         Yes|             Yes|        Yes|        Yes|            Yes|      Two year|              No|Credit card (auto...|         92.45|     6440.25|  Yes|         4|\n",
            "|2889-FPWRM|  Male|            0|    Yes|        No|    72|         Yes|             Yes|    Fiber optic|           Yes|         Yes|             Yes|        Yes|        Yes|            Yes|      One year|             Yes|Bank transfer (au...|         117.8|      8684.8|  Yes|         5|\n",
            "|6034-ZRYCV|Female|            0|    Yes|        No|    72|          No|No phone service|            DSL|            No|         Yes|             Yes|         No|        Yes|            Yes|      Two year|             Yes|    Electronic check|          54.2|     3937.45|  Yes|         6|\n",
            "|2834-JRTUA|  Male|            0|     No|        No|    71|         Yes|             Yes|    Fiber optic|           Yes|          No|             Yes|        Yes|        Yes|            Yes|      Two year|             Yes|    Electronic check|        108.05|     7532.15|  Yes|         7|\n",
            "|7317-GGVPB|  Male|            0|    Yes|        No|    71|         Yes|             Yes|    Fiber optic|            No|         Yes|             Yes|        Yes|        Yes|            Yes|      Two year|             Yes|Credit card (auto...|         108.6|      7690.9|  Yes|         8|\n",
            "|6559-ILWKJ|  Male|            0|    Yes|        No|    71|          No|No phone service|            DSL|            No|         Yes|              No|         No|        Yes|            Yes|      Two year|              No|    Electronic check|         49.35|     3515.25|  Yes|         9|\n",
            "|5287-QWLKY|  Male|            1|    Yes|       Yes|    71|         Yes|             Yes|    Fiber optic|           Yes|         Yes|              No|         No|        Yes|            Yes|Month-to-month|             Yes|Credit card (auto...|         105.1|      7548.1|  Yes|        10|\n",
            "+----------+------+-------------+-------+----------+------+------------+----------------+---------------+--------------+------------+----------------+-----------+-----------+---------------+--------------+----------------+--------------------+--------------+------------+-----+----------+\n",
            "\n"
          ]
        }
      ]
    },
    {
      "cell_type": "code",
      "source": [
        "churn_df = window_df.filter(window_df[\"churn\"] == \"Yes\")\n",
        "for col in churn_df.columns:\n",
        "  # churn_df.groupBy(col).count().orderBy(desc(\"count\")).show()\n",
        "  if col != \"customerID\" and col != \"tenure\" and col != \"MonthlyCharges\" and col != \"TotalCharges\" and col != \"row_number\":\n",
        "    print(col)\n",
        "    for row in churn_df.groupBy(col).count().orderBy(desc(\"count\")).collect():\n",
        "      print(row[col])\n",
        "    churn_df.groupBy(col).count().orderBy(desc(\"count\")).show()\n",
        "\n",
        ""
      ],
      "metadata": {
        "colab": {
          "base_uri": "https://localhost:8080/"
        },
        "id": "E1eNJkwvsdPI",
        "outputId": "88603545-be6c-4a28-e5ab-db2c3b3602cb"
      },
      "execution_count": 7,
      "outputs": [
        {
          "output_type": "stream",
          "name": "stdout",
          "text": [
            "gender\n",
            "Female\n",
            "Male\n",
            "+------+-----+\n",
            "|gender|count|\n",
            "+------+-----+\n",
            "|Female|  939|\n",
            "|  Male|  930|\n",
            "+------+-----+\n",
            "\n",
            "SeniorCitizen\n",
            "0\n",
            "1\n",
            "+-------------+-----+\n",
            "|SeniorCitizen|count|\n",
            "+-------------+-----+\n",
            "|            0| 1393|\n",
            "|            1|  476|\n",
            "+-------------+-----+\n",
            "\n",
            "Partner\n",
            "No\n",
            "Yes\n",
            "+-------+-----+\n",
            "|Partner|count|\n",
            "+-------+-----+\n",
            "|     No| 1200|\n",
            "|    Yes|  669|\n",
            "+-------+-----+\n",
            "\n",
            "Dependents\n",
            "No\n",
            "Yes\n",
            "+----------+-----+\n",
            "|Dependents|count|\n",
            "+----------+-----+\n",
            "|        No| 1543|\n",
            "|       Yes|  326|\n",
            "+----------+-----+\n",
            "\n",
            "PhoneService\n",
            "Yes\n",
            "No\n",
            "+------------+-----+\n",
            "|PhoneService|count|\n",
            "+------------+-----+\n",
            "|         Yes| 1699|\n",
            "|          No|  170|\n",
            "+------------+-----+\n",
            "\n",
            "MultipleLines\n",
            "Yes\n",
            "No\n",
            "No phone service\n",
            "+----------------+-----+\n",
            "|   MultipleLines|count|\n",
            "+----------------+-----+\n",
            "|             Yes|  850|\n",
            "|              No|  849|\n",
            "|No phone service|  170|\n",
            "+----------------+-----+\n",
            "\n",
            "InternetService\n",
            "Fiber optic\n",
            "DSL\n",
            "No\n",
            "+---------------+-----+\n",
            "|InternetService|count|\n",
            "+---------------+-----+\n",
            "|    Fiber optic| 1297|\n",
            "|            DSL|  459|\n",
            "|             No|  113|\n",
            "+---------------+-----+\n",
            "\n",
            "OnlineSecurity\n",
            "No\n",
            "Yes\n",
            "No internet service\n",
            "+-------------------+-----+\n",
            "|     OnlineSecurity|count|\n",
            "+-------------------+-----+\n",
            "|                 No| 1461|\n",
            "|                Yes|  295|\n",
            "|No internet service|  113|\n",
            "+-------------------+-----+\n",
            "\n",
            "OnlineBackup\n",
            "No\n",
            "Yes\n",
            "No internet service\n",
            "+-------------------+-----+\n",
            "|       OnlineBackup|count|\n",
            "+-------------------+-----+\n",
            "|                 No| 1233|\n",
            "|                Yes|  523|\n",
            "|No internet service|  113|\n",
            "+-------------------+-----+\n",
            "\n",
            "DeviceProtection\n",
            "No\n",
            "Yes\n",
            "No internet service\n",
            "+-------------------+-----+\n",
            "|   DeviceProtection|count|\n",
            "+-------------------+-----+\n",
            "|                 No| 1211|\n",
            "|                Yes|  545|\n",
            "|No internet service|  113|\n",
            "+-------------------+-----+\n",
            "\n",
            "TechSupport\n",
            "No\n",
            "Yes\n",
            "No internet service\n",
            "+-------------------+-----+\n",
            "|        TechSupport|count|\n",
            "+-------------------+-----+\n",
            "|                 No| 1446|\n",
            "|                Yes|  310|\n",
            "|No internet service|  113|\n",
            "+-------------------+-----+\n",
            "\n",
            "StreamingTV\n",
            "No\n",
            "Yes\n",
            "No internet service\n",
            "+-------------------+-----+\n",
            "|        StreamingTV|count|\n",
            "+-------------------+-----+\n",
            "|                 No|  942|\n",
            "|                Yes|  814|\n",
            "|No internet service|  113|\n",
            "+-------------------+-----+\n",
            "\n",
            "StreamingMovies\n",
            "No\n",
            "Yes\n",
            "No internet service\n",
            "+-------------------+-----+\n",
            "|    StreamingMovies|count|\n",
            "+-------------------+-----+\n",
            "|                 No|  938|\n",
            "|                Yes|  818|\n",
            "|No internet service|  113|\n",
            "+-------------------+-----+\n",
            "\n",
            "Contract\n",
            "Month-to-month\n",
            "One year\n",
            "Two year\n",
            "+--------------+-----+\n",
            "|      Contract|count|\n",
            "+--------------+-----+\n",
            "|Month-to-month| 1655|\n",
            "|      One year|  166|\n",
            "|      Two year|   48|\n",
            "+--------------+-----+\n",
            "\n",
            "PaperlessBilling\n",
            "Yes\n",
            "No\n",
            "+----------------+-----+\n",
            "|PaperlessBilling|count|\n",
            "+----------------+-----+\n",
            "|             Yes| 1400|\n",
            "|              No|  469|\n",
            "+----------------+-----+\n",
            "\n",
            "PaymentMethod\n",
            "Electronic check\n",
            "Mailed check\n",
            "Bank transfer (automatic)\n",
            "Credit card (automatic)\n",
            "+--------------------+-----+\n",
            "|       PaymentMethod|count|\n",
            "+--------------------+-----+\n",
            "|    Electronic check| 1071|\n",
            "|        Mailed check|  308|\n",
            "|Bank transfer (au...|  258|\n",
            "|Credit card (auto...|  232|\n",
            "+--------------------+-----+\n",
            "\n",
            "Churn\n",
            "Yes\n",
            "+-----+-----+\n",
            "|Churn|count|\n",
            "+-----+-----+\n",
            "|  Yes| 1869|\n",
            "+-----+-----+\n",
            "\n"
          ]
        }
      ]
    },
    {
      "cell_type": "code",
      "source": [
        "print(churn_df.columns)"
      ],
      "metadata": {
        "colab": {
          "base_uri": "https://localhost:8080/"
        },
        "id": "52h22NAnkub3",
        "outputId": "de73004f-9ce9-4796-fe15-e2a872c655ad"
      },
      "execution_count": 8,
      "outputs": [
        {
          "output_type": "stream",
          "name": "stdout",
          "text": [
            "['customerID', 'gender', 'SeniorCitizen', 'Partner', 'Dependents', 'tenure', 'PhoneService', 'MultipleLines', 'InternetService', 'OnlineSecurity', 'OnlineBackup', 'DeviceProtection', 'TechSupport', 'StreamingTV', 'StreamingMovies', 'Contract', 'PaperlessBilling', 'PaymentMethod', 'MonthlyCharges', 'TotalCharges', 'Churn', 'row_number']\n"
          ]
        }
      ]
    },
    {
      "cell_type": "code",
      "source": [
        "from pyspark.sql import functions as F\n",
        "\n",
        "# Total number of churned customers\n",
        "total_churn = churn_df.count()\n",
        "print(type(total_churn))\n",
        "# Loop through relevant columns\n",
        "for col in churn_df.columns:\n",
        "    if col not in [\"customerID\", \"tenure\", \"MonthlyCharges\", \"TotalCharges\", \"row_number\"]:\n",
        "        print(f\"\\nColumn: {col}\")\n",
        "        churn_df.groupBy(col) \\\n",
        "            .agg(\n",
        "                F.count(\"*\").alias(\"count\"),\n",
        "                (F.count(\"*\") / total_churn * 100).alias(\"percentage\")\n",
        "            ) \\\n",
        "            .orderBy(F.desc(\"count\")) \\\n",
        "            .show(truncate=False)\n"
      ],
      "metadata": {
        "id": "9sZW85FXtYGX",
        "colab": {
          "base_uri": "https://localhost:8080/"
        },
        "outputId": "fa63f7bd-7934-4905-d525-bb9d0b2ffef0"
      },
      "execution_count": 9,
      "outputs": [
        {
          "output_type": "stream",
          "name": "stdout",
          "text": [
            "<class 'int'>\n",
            "\n",
            "Column: gender\n",
            "+------+-----+-----------------+\n",
            "|gender|count|percentage       |\n",
            "+------+-----+-----------------+\n",
            "|Female|939  |50.24077046548957|\n",
            "|Male  |930  |49.75922953451043|\n",
            "+------+-----+-----------------+\n",
            "\n",
            "\n",
            "Column: SeniorCitizen\n",
            "+-------------+-----+------------------+\n",
            "|SeniorCitizen|count|percentage        |\n",
            "+-------------+-----+------------------+\n",
            "|0            |1393 |74.53183520599251 |\n",
            "|1            |476  |25.468164794007492|\n",
            "+-------------+-----+------------------+\n",
            "\n",
            "\n",
            "Column: Partner\n",
            "+-------+-----+-----------------+\n",
            "|Partner|count|percentage       |\n",
            "+-------+-----+-----------------+\n",
            "|No     |1200 |64.20545746388443|\n",
            "|Yes    |669  |35.79454253611557|\n",
            "+-------+-----+-----------------+\n",
            "\n",
            "\n",
            "Column: Dependents\n",
            "+----------+-----+------------------+\n",
            "|Dependents|count|percentage        |\n",
            "+----------+-----+------------------+\n",
            "|No        |1543 |82.55751738897807 |\n",
            "|Yes       |326  |17.442482611021937|\n",
            "+----------+-----+------------------+\n",
            "\n",
            "\n",
            "Column: PhoneService\n",
            "+------------+-----+-----------------+\n",
            "|PhoneService|count|percentage       |\n",
            "+------------+-----+-----------------+\n",
            "|Yes         |1699 |90.90422685928304|\n",
            "|No          |170  |9.095773140716961|\n",
            "+------------+-----+-----------------+\n",
            "\n",
            "\n",
            "Column: MultipleLines\n",
            "+----------------+-----+-----------------+\n",
            "|MultipleLines   |count|percentage       |\n",
            "+----------------+-----+-----------------+\n",
            "|Yes             |850  |45.4788657035848 |\n",
            "|No              |849  |45.42536115569823|\n",
            "|No phone service|170  |9.095773140716961|\n",
            "+----------------+-----+-----------------+\n",
            "\n",
            "\n",
            "Column: InternetService\n",
            "+---------------+-----+------------------+\n",
            "|InternetService|count|percentage        |\n",
            "+---------------+-----+------------------+\n",
            "|Fiber optic    |1297 |69.39539860888175 |\n",
            "|DSL            |459  |24.558587479935795|\n",
            "|No             |113  |6.046013911182451 |\n",
            "+---------------+-----+------------------+\n",
            "\n",
            "\n",
            "Column: OnlineSecurity\n",
            "+-------------------+-----+------------------+\n",
            "|OnlineSecurity     |count|percentage        |\n",
            "+-------------------+-----+------------------+\n",
            "|No                 |1461 |78.1701444622793  |\n",
            "|Yes                |295  |15.783841626538257|\n",
            "|No internet service|113  |6.046013911182451 |\n",
            "+-------------------+-----+------------------+\n",
            "\n",
            "\n",
            "Column: OnlineBackup\n",
            "+-------------------+-----+-----------------+\n",
            "|OnlineBackup       |count|percentage       |\n",
            "+-------------------+-----+-----------------+\n",
            "|No                 |1233 |65.97110754414125|\n",
            "|Yes                |523  |27.9828785446763 |\n",
            "|No internet service|113  |6.046013911182451|\n",
            "+-------------------+-----+-----------------+\n",
            "\n",
            "\n",
            "Column: DeviceProtection\n",
            "+-------------------+-----+------------------+\n",
            "|DeviceProtection   |count|percentage        |\n",
            "+-------------------+-----+------------------+\n",
            "|No                 |1211 |64.7940074906367  |\n",
            "|Yes                |545  |29.159978598180846|\n",
            "|No internet service|113  |6.046013911182451 |\n",
            "+-------------------+-----+------------------+\n",
            "\n",
            "\n",
            "Column: TechSupport\n",
            "+-------------------+-----+------------------+\n",
            "|TechSupport        |count|percentage        |\n",
            "+-------------------+-----+------------------+\n",
            "|No                 |1446 |77.36757624398074 |\n",
            "|Yes                |310  |16.586409844836812|\n",
            "|No internet service|113  |6.046013911182451 |\n",
            "+-------------------+-----+------------------+\n",
            "\n",
            "\n",
            "Column: StreamingTV\n",
            "+-------------------+-----+-----------------+\n",
            "|StreamingTV        |count|percentage       |\n",
            "+-------------------+-----+-----------------+\n",
            "|No                 |942  |50.40128410914928|\n",
            "|Yes                |814  |43.55270197966827|\n",
            "|No internet service|113  |6.046013911182451|\n",
            "+-------------------+-----+-----------------+\n",
            "\n",
            "\n",
            "Column: StreamingMovies\n",
            "+-------------------+-----+-----------------+\n",
            "|StreamingMovies    |count|percentage       |\n",
            "+-------------------+-----+-----------------+\n",
            "|No                 |938  |50.187265917603  |\n",
            "|Yes                |818  |43.76672017121455|\n",
            "|No internet service|113  |6.046013911182451|\n",
            "+-------------------+-----+-----------------+\n",
            "\n",
            "\n",
            "Column: Contract\n",
            "+--------------+-----+-----------------+\n",
            "|Contract      |count|percentage       |\n",
            "+--------------+-----+-----------------+\n",
            "|Month-to-month|1655 |88.55002675227395|\n",
            "|One year      |166  |8.881754949170679|\n",
            "|Two year      |48   |2.568218298555377|\n",
            "+--------------+-----+-----------------+\n",
            "\n",
            "\n",
            "Column: PaperlessBilling\n",
            "+----------------+-----+-----------------+\n",
            "|PaperlessBilling|count|percentage       |\n",
            "+----------------+-----+-----------------+\n",
            "|Yes             |1400 |74.90636704119851|\n",
            "|No              |469  |25.0936329588015 |\n",
            "+----------------+-----+-----------------+\n",
            "\n",
            "\n",
            "Column: PaymentMethod\n",
            "+-------------------------+-----+------------------+\n",
            "|PaymentMethod            |count|percentage        |\n",
            "+-------------------------+-----+------------------+\n",
            "|Electronic check         |1071 |57.30337078651685 |\n",
            "|Mailed check             |308  |16.479400749063668|\n",
            "|Bank transfer (automatic)|258  |13.804173354735152|\n",
            "|Credit card (automatic)  |232  |12.413055109684324|\n",
            "+-------------------------+-----+------------------+\n",
            "\n",
            "\n",
            "Column: Churn\n",
            "+-----+-----+----------+\n",
            "|Churn|count|percentage|\n",
            "+-----+-----+----------+\n",
            "|Yes  |1869 |100.0     |\n",
            "+-----+-----+----------+\n",
            "\n"
          ]
        }
      ]
    },
    {
      "cell_type": "code",
      "source": [
        "df.show(10)"
      ],
      "metadata": {
        "colab": {
          "base_uri": "https://localhost:8080/"
        },
        "id": "pvLykCqrquTy",
        "outputId": "0a0cbf88-c3ae-4b6e-b87f-160403306949"
      },
      "execution_count": 12,
      "outputs": [
        {
          "output_type": "stream",
          "name": "stdout",
          "text": [
            "+----------+------+-------------+-------+----------+------+------------+----------------+---------------+--------------+------------+----------------+-----------+-----------+---------------+--------------+----------------+--------------------+--------------+------------+-----+\n",
            "|customerID|gender|SeniorCitizen|Partner|Dependents|tenure|PhoneService|   MultipleLines|InternetService|OnlineSecurity|OnlineBackup|DeviceProtection|TechSupport|StreamingTV|StreamingMovies|      Contract|PaperlessBilling|       PaymentMethod|MonthlyCharges|TotalCharges|Churn|\n",
            "+----------+------+-------------+-------+----------+------+------------+----------------+---------------+--------------+------------+----------------+-----------+-----------+---------------+--------------+----------------+--------------------+--------------+------------+-----+\n",
            "|7590-VHVEG|Female|            0|    Yes|        No|     1|          No|No phone service|            DSL|            No|         Yes|              No|         No|         No|             No|Month-to-month|             Yes|    Electronic check|         29.85|       29.85|   No|\n",
            "|5575-GNVDE|  Male|            0|     No|        No|    34|         Yes|              No|            DSL|           Yes|          No|             Yes|         No|         No|             No|      One year|              No|        Mailed check|         56.95|      1889.5|   No|\n",
            "|3668-QPYBK|  Male|            0|     No|        No|     2|         Yes|              No|            DSL|           Yes|         Yes|              No|         No|         No|             No|Month-to-month|             Yes|        Mailed check|         53.85|      108.15|  Yes|\n",
            "|7795-CFOCW|  Male|            0|     No|        No|    45|          No|No phone service|            DSL|           Yes|          No|             Yes|        Yes|         No|             No|      One year|              No|Bank transfer (au...|          42.3|     1840.75|   No|\n",
            "|9237-HQITU|Female|            0|     No|        No|     2|         Yes|              No|    Fiber optic|            No|          No|              No|         No|         No|             No|Month-to-month|             Yes|    Electronic check|          70.7|      151.65|  Yes|\n",
            "|9305-CDSKC|Female|            0|     No|        No|     8|         Yes|             Yes|    Fiber optic|            No|          No|             Yes|         No|        Yes|            Yes|Month-to-month|             Yes|    Electronic check|         99.65|       820.5|  Yes|\n",
            "|1452-KIOVK|  Male|            0|     No|       Yes|    22|         Yes|             Yes|    Fiber optic|            No|         Yes|              No|         No|        Yes|             No|Month-to-month|             Yes|Credit card (auto...|          89.1|      1949.4|   No|\n",
            "|6713-OKOMC|Female|            0|     No|        No|    10|          No|No phone service|            DSL|           Yes|          No|              No|         No|         No|             No|Month-to-month|              No|        Mailed check|         29.75|       301.9|   No|\n",
            "|7892-POOKP|Female|            0|    Yes|        No|    28|         Yes|             Yes|    Fiber optic|            No|          No|             Yes|        Yes|        Yes|            Yes|Month-to-month|             Yes|    Electronic check|         104.8|     3046.05|  Yes|\n",
            "|6388-TABGU|  Male|            0|     No|       Yes|    62|         Yes|              No|            DSL|           Yes|         Yes|              No|         No|         No|             No|      One year|              No|Bank transfer (au...|         56.15|     3487.95|   No|\n",
            "+----------+------+-------------+-------+----------+------+------------+----------------+---------------+--------------+------------+----------------+-----------+-----------+---------------+--------------+----------------+--------------------+--------------+------------+-----+\n",
            "only showing top 10 rows\n",
            "\n"
          ]
        }
      ]
    },
    {
      "cell_type": "code",
      "source": [
        "drop_feature = [\"customerID\", \"gender\", \"SeniorCitizen\", \"PaperlessBilling\",\"PaymentMethod\"]\n",
        "print(df.columns)\n",
        "for i in drop_feature:\n",
        "  df = df.drop(i)\n",
        "print(df.columns)"
      ],
      "metadata": {
        "colab": {
          "base_uri": "https://localhost:8080/"
        },
        "id": "lysYXg4RrCkZ",
        "outputId": "9cd770c9-fe50-45dd-8675-cb40751f48c0"
      },
      "execution_count": 18,
      "outputs": [
        {
          "output_type": "stream",
          "name": "stdout",
          "text": [
            "['gender', 'Partner', 'Dependents', 'tenure', 'PhoneService', 'MultipleLines', 'InternetService', 'OnlineSecurity', 'OnlineBackup', 'DeviceProtection', 'TechSupport', 'StreamingTV', 'StreamingMovies', 'Contract', 'MonthlyCharges', 'TotalCharges', 'Churn']\n",
            "['Partner', 'Dependents', 'tenure', 'PhoneService', 'MultipleLines', 'InternetService', 'OnlineSecurity', 'OnlineBackup', 'DeviceProtection', 'TechSupport', 'StreamingTV', 'StreamingMovies', 'Contract', 'MonthlyCharges', 'TotalCharges', 'Churn']\n"
          ]
        }
      ]
    },
    {
      "cell_type": "code",
      "source": [],
      "metadata": {
        "id": "97Xq2hpkyZu5"
      },
      "execution_count": null,
      "outputs": []
    },
    {
      "cell_type": "code",
      "source": [
        "df.isEmpty()"
      ],
      "metadata": {
        "colab": {
          "base_uri": "https://localhost:8080/"
        },
        "id": "hkyHg5F1sLr1",
        "outputId": "9a670897-66e9-4ad9-dc1b-11dcf812a33a"
      },
      "execution_count": 23,
      "outputs": [
        {
          "output_type": "execute_result",
          "data": {
            "text/plain": [
              "False"
            ]
          },
          "metadata": {},
          "execution_count": 23
        }
      ]
    },
    {
      "cell_type": "code",
      "source": [
        "df = df.dropna()"
      ],
      "metadata": {
        "id": "gHSVwx8JvnWM"
      },
      "execution_count": 27,
      "outputs": []
    },
    {
      "cell_type": "code",
      "source": [
        "from sklearn.model_selection import train_test_split\n",
        "from sklearn.preprocessing import OneHotEncoder, StandardScaler\n",
        "from sklearn.compose import ColumnTransformer\n",
        "from sklearn.pipeline import Pipeline\n",
        "from sklearn.ensemble import RandomForestClassifier\n",
        "from sklearn.metrics import classification_report\n",
        "\n",
        "# Define columns\n",
        "categorical = ['Partner', 'Dependents', 'PhoneService', 'MultipleLines', 'InternetService',\n",
        "               'OnlineSecurity', 'OnlineBackup', 'DeviceProtection', 'TechSupport',\n",
        "               'StreamingTV', 'StreamingMovies', 'Contract']\n",
        "numerical = ['tenure', 'MonthlyCharges', 'TotalCharges']\n",
        "\n",
        "# Preprocessing\n",
        "preprocessor = ColumnTransformer([\n",
        "    ('num', StandardScaler(), numerical),\n",
        "    ('cat', OneHotEncoder(handle_unknown='ignore'), categorical)\n",
        "])\n"
      ],
      "metadata": {
        "id": "uDPqghEpxPov"
      },
      "execution_count": 29,
      "outputs": []
    },
    {
      "cell_type": "code",
      "source": [
        "print(preprocessor)"
      ],
      "metadata": {
        "colab": {
          "base_uri": "https://localhost:8080/"
        },
        "id": "2M63kqkazopx",
        "outputId": "c134d73f-e84a-4333-fe7d-eda65584b01d"
      },
      "execution_count": 32,
      "outputs": [
        {
          "output_type": "stream",
          "name": "stdout",
          "text": [
            "ColumnTransformer(transformers=[('num', StandardScaler(),\n",
            "                                 ['tenure', 'MonthlyCharges', 'TotalCharges']),\n",
            "                                ('cat', OneHotEncoder(handle_unknown='ignore'),\n",
            "                                 ['Partner', 'Dependents', 'PhoneService',\n",
            "                                  'MultipleLines', 'InternetService',\n",
            "                                  'OnlineSecurity', 'OnlineBackup',\n",
            "                                  'DeviceProtection', 'TechSupport',\n",
            "                                  'StreamingTV', 'StreamingMovies',\n",
            "                                  'Contract'])])\n"
          ]
        }
      ]
    },
    {
      "cell_type": "code",
      "source": [
        "clf = Pipeline(steps=[\n",
        "    ('preprocess', preprocessor),\n",
        "    ('classifier', RandomForestClassifier(random_state=42))\n",
        "])\n"
      ],
      "metadata": {
        "id": "ERGyhg2AyEfJ"
      },
      "execution_count": 30,
      "outputs": []
    },
    {
      "cell_type": "code",
      "source": [
        "from pyspark.sql.functions import when, col, trim\n",
        "\n",
        "df = df.withColumn(\"label\", when(col(\"Churn\") == \"Yes\", 1).otherwise(0))\n",
        "df = df.filter(trim(col(\"TotalCharges\")) != \"\")\n",
        "\n",
        "X = df.drop(\"label\").toPandas()\n",
        "\n",
        "y = df.select(\"label\").toPandas()\n",
        "\n",
        "X_train, X_test, y_train, y_test = train_test_split(X, y, test_size=0.2, random_state=42)\n",
        "\n",
        "clf.fit(X_train, y_train)\n",
        "y_pred = clf.predict(X_test)\n",
        "\n",
        "print(classification_report(y_test, y_pred))\n"
      ],
      "metadata": {
        "colab": {
          "base_uri": "https://localhost:8080/"
        },
        "id": "B-xKKW_Vza6x",
        "outputId": "008de849-be4b-4ac6-ecf0-1db5a28d22b8"
      },
      "execution_count": 44,
      "outputs": [
        {
          "output_type": "stream",
          "name": "stderr",
          "text": [
            "/usr/local/lib/python3.11/dist-packages/sklearn/base.py:1389: DataConversionWarning: A column-vector y was passed when a 1d array was expected. Please change the shape of y to (n_samples,), for example using ravel().\n",
            "  return fit_method(estimator, *args, **kwargs)\n"
          ]
        },
        {
          "output_type": "stream",
          "name": "stdout",
          "text": [
            "              precision    recall  f1-score   support\n",
            "\n",
            "           0       0.82      0.89      0.85      1033\n",
            "           1       0.59      0.45      0.51       374\n",
            "\n",
            "    accuracy                           0.77      1407\n",
            "   macro avg       0.70      0.67      0.68      1407\n",
            "weighted avg       0.76      0.77      0.76      1407\n",
            "\n"
          ]
        }
      ]
    },
    {
      "cell_type": "code",
      "source": [],
      "metadata": {
        "id": "6Wei64CJzbYp"
      },
      "execution_count": null,
      "outputs": []
    }
  ]
}