{
  "cells": [
    {
      "cell_type": "code",
      "execution_count": 1,
      "metadata": {
        "colab": {
          "base_uri": "https://localhost:8080/",
          "height": 90
        },
        "id": "kAA-HsxlrUlh",
        "outputId": "058f3833-5684-4e18-80a0-8e18908e42d7"
      },
      "outputs": [
        {
          "output_type": "display_data",
          "data": {
            "text/plain": [
              "<IPython.core.display.HTML object>"
            ],
            "text/html": [
              "\n",
              "     <input type=\"file\" id=\"files-275ae579-4143-4cc7-8557-cc2ffdaf9252\" name=\"files[]\" multiple disabled\n",
              "        style=\"border:none\" />\n",
              "     <output id=\"result-275ae579-4143-4cc7-8557-cc2ffdaf9252\">\n",
              "      Upload widget is only available when the cell has been executed in the\n",
              "      current browser session. Please rerun this cell to enable.\n",
              "      </output>\n",
              "      <script>// Copyright 2017 Google LLC\n",
              "//\n",
              "// Licensed under the Apache License, Version 2.0 (the \"License\");\n",
              "// you may not use this file except in compliance with the License.\n",
              "// You may obtain a copy of the License at\n",
              "//\n",
              "//      http://www.apache.org/licenses/LICENSE-2.0\n",
              "//\n",
              "// Unless required by applicable law or agreed to in writing, software\n",
              "// distributed under the License is distributed on an \"AS IS\" BASIS,\n",
              "// WITHOUT WARRANTIES OR CONDITIONS OF ANY KIND, either express or implied.\n",
              "// See the License for the specific language governing permissions and\n",
              "// limitations under the License.\n",
              "\n",
              "/**\n",
              " * @fileoverview Helpers for google.colab Python module.\n",
              " */\n",
              "(function(scope) {\n",
              "function span(text, styleAttributes = {}) {\n",
              "  const element = document.createElement('span');\n",
              "  element.textContent = text;\n",
              "  for (const key of Object.keys(styleAttributes)) {\n",
              "    element.style[key] = styleAttributes[key];\n",
              "  }\n",
              "  return element;\n",
              "}\n",
              "\n",
              "// Max number of bytes which will be uploaded at a time.\n",
              "const MAX_PAYLOAD_SIZE = 100 * 1024;\n",
              "\n",
              "function _uploadFiles(inputId, outputId) {\n",
              "  const steps = uploadFilesStep(inputId, outputId);\n",
              "  const outputElement = document.getElementById(outputId);\n",
              "  // Cache steps on the outputElement to make it available for the next call\n",
              "  // to uploadFilesContinue from Python.\n",
              "  outputElement.steps = steps;\n",
              "\n",
              "  return _uploadFilesContinue(outputId);\n",
              "}\n",
              "\n",
              "// This is roughly an async generator (not supported in the browser yet),\n",
              "// where there are multiple asynchronous steps and the Python side is going\n",
              "// to poll for completion of each step.\n",
              "// This uses a Promise to block the python side on completion of each step,\n",
              "// then passes the result of the previous step as the input to the next step.\n",
              "function _uploadFilesContinue(outputId) {\n",
              "  const outputElement = document.getElementById(outputId);\n",
              "  const steps = outputElement.steps;\n",
              "\n",
              "  const next = steps.next(outputElement.lastPromiseValue);\n",
              "  return Promise.resolve(next.value.promise).then((value) => {\n",
              "    // Cache the last promise value to make it available to the next\n",
              "    // step of the generator.\n",
              "    outputElement.lastPromiseValue = value;\n",
              "    return next.value.response;\n",
              "  });\n",
              "}\n",
              "\n",
              "/**\n",
              " * Generator function which is called between each async step of the upload\n",
              " * process.\n",
              " * @param {string} inputId Element ID of the input file picker element.\n",
              " * @param {string} outputId Element ID of the output display.\n",
              " * @return {!Iterable<!Object>} Iterable of next steps.\n",
              " */\n",
              "function* uploadFilesStep(inputId, outputId) {\n",
              "  const inputElement = document.getElementById(inputId);\n",
              "  inputElement.disabled = false;\n",
              "\n",
              "  const outputElement = document.getElementById(outputId);\n",
              "  outputElement.innerHTML = '';\n",
              "\n",
              "  const pickedPromise = new Promise((resolve) => {\n",
              "    inputElement.addEventListener('change', (e) => {\n",
              "      resolve(e.target.files);\n",
              "    });\n",
              "  });\n",
              "\n",
              "  const cancel = document.createElement('button');\n",
              "  inputElement.parentElement.appendChild(cancel);\n",
              "  cancel.textContent = 'Cancel upload';\n",
              "  const cancelPromise = new Promise((resolve) => {\n",
              "    cancel.onclick = () => {\n",
              "      resolve(null);\n",
              "    };\n",
              "  });\n",
              "\n",
              "  // Wait for the user to pick the files.\n",
              "  const files = yield {\n",
              "    promise: Promise.race([pickedPromise, cancelPromise]),\n",
              "    response: {\n",
              "      action: 'starting',\n",
              "    }\n",
              "  };\n",
              "\n",
              "  cancel.remove();\n",
              "\n",
              "  // Disable the input element since further picks are not allowed.\n",
              "  inputElement.disabled = true;\n",
              "\n",
              "  if (!files) {\n",
              "    return {\n",
              "      response: {\n",
              "        action: 'complete',\n",
              "      }\n",
              "    };\n",
              "  }\n",
              "\n",
              "  for (const file of files) {\n",
              "    const li = document.createElement('li');\n",
              "    li.append(span(file.name, {fontWeight: 'bold'}));\n",
              "    li.append(span(\n",
              "        `(${file.type || 'n/a'}) - ${file.size} bytes, ` +\n",
              "        `last modified: ${\n",
              "            file.lastModifiedDate ? file.lastModifiedDate.toLocaleDateString() :\n",
              "                                    'n/a'} - `));\n",
              "    const percent = span('0% done');\n",
              "    li.appendChild(percent);\n",
              "\n",
              "    outputElement.appendChild(li);\n",
              "\n",
              "    const fileDataPromise = new Promise((resolve) => {\n",
              "      const reader = new FileReader();\n",
              "      reader.onload = (e) => {\n",
              "        resolve(e.target.result);\n",
              "      };\n",
              "      reader.readAsArrayBuffer(file);\n",
              "    });\n",
              "    // Wait for the data to be ready.\n",
              "    let fileData = yield {\n",
              "      promise: fileDataPromise,\n",
              "      response: {\n",
              "        action: 'continue',\n",
              "      }\n",
              "    };\n",
              "\n",
              "    // Use a chunked sending to avoid message size limits. See b/62115660.\n",
              "    let position = 0;\n",
              "    do {\n",
              "      const length = Math.min(fileData.byteLength - position, MAX_PAYLOAD_SIZE);\n",
              "      const chunk = new Uint8Array(fileData, position, length);\n",
              "      position += length;\n",
              "\n",
              "      const base64 = btoa(String.fromCharCode.apply(null, chunk));\n",
              "      yield {\n",
              "        response: {\n",
              "          action: 'append',\n",
              "          file: file.name,\n",
              "          data: base64,\n",
              "        },\n",
              "      };\n",
              "\n",
              "      let percentDone = fileData.byteLength === 0 ?\n",
              "          100 :\n",
              "          Math.round((position / fileData.byteLength) * 100);\n",
              "      percent.textContent = `${percentDone}% done`;\n",
              "\n",
              "    } while (position < fileData.byteLength);\n",
              "  }\n",
              "\n",
              "  // All done.\n",
              "  yield {\n",
              "    response: {\n",
              "      action: 'complete',\n",
              "    }\n",
              "  };\n",
              "}\n",
              "\n",
              "scope.google = scope.google || {};\n",
              "scope.google.colab = scope.google.colab || {};\n",
              "scope.google.colab._files = {\n",
              "  _uploadFiles,\n",
              "  _uploadFilesContinue,\n",
              "};\n",
              "})(self);\n",
              "</script> "
            ]
          },
          "metadata": {}
        },
        {
          "output_type": "stream",
          "name": "stdout",
          "text": [
            "Saving kaggle.json to kaggle.json\n"
          ]
        },
        {
          "output_type": "execute_result",
          "data": {
            "text/plain": [
              "{'kaggle.json': b'{\"username\":\"korphai\",\"key\":\"9b2f5c8b339ac13b626c41a010328aee\"}'}"
            ]
          },
          "metadata": {},
          "execution_count": 1
        }
      ],
      "source": [
        "from google.colab import files\n",
        "files.upload()"
      ]
    },
    {
      "cell_type": "code",
      "execution_count": 2,
      "metadata": {
        "id": "TdMbyKbwriqV"
      },
      "outputs": [],
      "source": [
        "!mkdir -p ~/.kaggle\n",
        "!cp kaggle.json ~/.kaggle/\n",
        "!chmod 600 ~/.kaggle/kaggle.json\n"
      ]
    },
    {
      "cell_type": "code",
      "execution_count": 3,
      "metadata": {
        "id": "TxIBMbXZrjfT"
      },
      "outputs": [],
      "source": [
        "!pip install -q kaggle\n"
      ]
    },
    {
      "cell_type": "code",
      "execution_count": 5,
      "metadata": {
        "colab": {
          "base_uri": "https://localhost:8080/"
        },
        "id": "EDkUQY3mrmdO",
        "outputId": "16e02397-6ab3-4268-d16a-77cf10c1099b"
      },
      "outputs": [
        {
          "output_type": "stream",
          "name": "stdout",
          "text": [
            "Dataset URL: https://www.kaggle.com/datasets/ddosad/ecommerce-customer-service-satisfaction\n",
            "License(s): other\n"
          ]
        }
      ],
      "source": [
        "!kaggle datasets download -d ddosad/ecommerce-customer-service-satisfaction"
      ]
    },
    {
      "cell_type": "code",
      "execution_count": 9,
      "metadata": {
        "colab": {
          "base_uri": "https://localhost:8080/"
        },
        "id": "U1b6iW56u22X",
        "outputId": "aee16f47-5abd-4fc8-cc0c-ad6b6d54a203"
      },
      "outputs": [
        {
          "output_type": "stream",
          "name": "stdout",
          "text": [
            "Archive:  ecommerce-customer-service-satisfaction.zip\n",
            "  inflating: Customer_support_data.csv  \n"
          ]
        }
      ],
      "source": [
        "!unzip ecommerce-customer-service-satisfaction.zip"
      ]
    },
    {
      "cell_type": "code",
      "execution_count": 6,
      "metadata": {
        "id": "xIktpEClvHVj"
      },
      "outputs": [],
      "source": [
        "#/content/Customer_support_data.csv"
      ]
    },
    {
      "cell_type": "code",
      "execution_count": 7,
      "metadata": {
        "colab": {
          "base_uri": "https://localhost:8080/"
        },
        "id": "tRijIIbWwY9i",
        "outputId": "edcefcd1-fdce-47a0-83c1-f281959fa50f"
      },
      "outputs": [
        {
          "output_type": "stream",
          "name": "stdout",
          "text": [
            "Collecting findspark\n",
            "  Downloading findspark-2.0.1-py2.py3-none-any.whl.metadata (352 bytes)\n",
            "Downloading findspark-2.0.1-py2.py3-none-any.whl (4.4 kB)\n",
            "Installing collected packages: findspark\n",
            "Successfully installed findspark-2.0.1\n"
          ]
        }
      ],
      "source": [
        "!pip install findspark"
      ]
    },
    {
      "cell_type": "code",
      "execution_count": 10,
      "metadata": {
        "colab": {
          "base_uri": "https://localhost:8080/",
          "height": 104
        },
        "id": "KakF-qYuwHfw",
        "outputId": "8cc035ce-085a-4dab-cecf-e24d8edf1240"
      },
      "outputs": [
        {
          "output_type": "display_data",
          "data": {
            "text/plain": [
              "DataFrame[Unique id: string, channel_name: string, category: string, Sub-category: string, Customer Remarks: string, Order_id: string, order_date_time: string, Issue_reported at: string, issue_responded: string, Survey_response_Date: string, Customer_City: string, Product_category: string, Item_price: string, connected_handling_time: string, Agent_name: string, Supervisor: string, Manager: string, Tenure Bucket: string, Agent Shift: string, CSAT Score: string]"
            ]
          },
          "metadata": {}
        }
      ],
      "source": [
        "# import all\n",
        "from pyspark.sql.types import *\n",
        "from pyspark.sql.functions import *\n",
        "\n",
        "# import select functions and types\n",
        "from pyspark.sql.types import IntegerType, StringType\n",
        "from pyspark.sql.functions import floor, round\n",
        "\n",
        "# Import SparkSession\n",
        "from pyspark.sql import SparkSession\n",
        "\n",
        "# Create a SparkSession\n",
        "spark = SparkSession.builder.appName(\"CustomerSupportAnalysis\").getOrCreate()\n",
        "\n",
        "\n",
        "# Assign this variable your full volume file path\n",
        "volume_file_path = \"/content/Customer_support_data.csv\"\n",
        "\n",
        "df_csv = (spark.read\n",
        "  .format(\"csv\")\n",
        "  .option(\"header\", True)\n",
        "  .option(\"inferSchema\", True)\n",
        "  .load(volume_file_path)\n",
        ")\n",
        "display(df_csv)"
      ]
    },
    {
      "cell_type": "code",
      "source": [
        "df_csv.limit(5).show()"
      ],
      "metadata": {
        "id": "zjz_qH59651x"
      },
      "execution_count": null,
      "outputs": []
    },
    {
      "cell_type": "code",
      "source": [
        "df_csv.describe()"
      ],
      "metadata": {
        "colab": {
          "base_uri": "https://localhost:8080/"
        },
        "id": "BMD9wWMssJrd",
        "outputId": "3f74722f-784a-41b5-cd82-1a6fd1cbbb08"
      },
      "execution_count": 13,
      "outputs": [
        {
          "output_type": "execute_result",
          "data": {
            "text/plain": [
              "DataFrame[summary: string, Unique id: string, channel_name: string, category: string, Sub-category: string, Customer Remarks: string, Order_id: string, order_date_time: string, Issue_reported at: string, issue_responded: string, Survey_response_Date: string, Customer_City: string, Product_category: string, Item_price: string, connected_handling_time: string, Agent_name: string, Supervisor: string, Manager: string, Tenure Bucket: string, Agent Shift: string, CSAT Score: string]"
            ]
          },
          "metadata": {},
          "execution_count": 13
        }
      ]
    },
    {
      "cell_type": "code",
      "source": [
        "df_csv.columns"
      ],
      "metadata": {
        "colab": {
          "base_uri": "https://localhost:8080/"
        },
        "id": "8QmDRjP3p7SL",
        "outputId": "68380bfe-ede4-4dee-ce30-176ca14c42be"
      },
      "execution_count": 14,
      "outputs": [
        {
          "output_type": "execute_result",
          "data": {
            "text/plain": [
              "['Unique id',\n",
              " 'channel_name',\n",
              " 'category',\n",
              " 'Sub-category',\n",
              " 'Customer Remarks',\n",
              " 'Order_id',\n",
              " 'order_date_time',\n",
              " 'Issue_reported at',\n",
              " 'issue_responded',\n",
              " 'Survey_response_Date',\n",
              " 'Customer_City',\n",
              " 'Product_category',\n",
              " 'Item_price',\n",
              " 'connected_handling_time',\n",
              " 'Agent_name',\n",
              " 'Supervisor',\n",
              " 'Manager',\n",
              " 'Tenure Bucket',\n",
              " 'Agent Shift',\n",
              " 'CSAT Score']"
            ]
          },
          "metadata": {},
          "execution_count": 14
        }
      ]
    },
    {
      "cell_type": "code",
      "source": [
        "from pyspark.sql.functions import unix_timestamp\n",
        "df_csv = df_csv.withColumn(\"Issue_reported at\", to_timestamp(col(\"Issue_reported at\"), \"dd/MM/yyyy HH:mm\"))\n",
        "df_csv = df_csv.withColumn(\"issue_responded\", to_timestamp(col(\"issue_responded\"), \"dd/MM/yyyy HH:mm\"))\n",
        "df_csv.select(\"Issue_reported at\", \"issue_responded\").show()\n",
        "df_csv = df_csv.withColumn(\"response_time_minutes\",\n",
        "                   (col(\"issue_responded\").cast(\"long\") - col(\"Issue_reported at\").cast(\"long\")) / 60)\n",
        "df_csv.select(\"Issue_reported at\", \"issue_responded\", \"response_time_minutes\").show()\n"
      ],
      "metadata": {
        "colab": {
          "base_uri": "https://localhost:8080/"
        },
        "id": "uKqFKKyOuncn",
        "outputId": "6f4088ae-95cd-4836-ea9e-ece0d0a0ff05"
      },
      "execution_count": 45,
      "outputs": [
        {
          "output_type": "stream",
          "name": "stdout",
          "text": [
            "+-------------------+-------------------+\n",
            "|  Issue_reported at|    issue_responded|\n",
            "+-------------------+-------------------+\n",
            "|2023-08-01 11:13:00|2023-08-01 11:47:00|\n",
            "|2023-08-01 12:52:00|2023-08-01 12:54:00|\n",
            "|2023-08-01 20:16:00|2023-08-01 20:38:00|\n",
            "|2023-08-01 20:56:00|2023-08-01 21:16:00|\n",
            "|2023-08-01 10:30:00|2023-08-01 10:32:00|\n",
            "|2023-08-01 15:13:00|2023-08-01 18:39:00|\n",
            "|2023-08-01 15:31:00|2023-08-01 23:52:00|\n",
            "|2023-08-01 16:17:00|2023-08-01 16:23:00|\n",
            "|2023-08-01 21:03:00|2023-08-01 21:07:00|\n",
            "|2023-08-01 23:31:00|2023-08-01 23:36:00|\n",
            "|2023-08-02 18:14:00|2023-08-02 18:16:00|\n",
            "|2023-08-02 10:44:00|2023-08-02 11:14:00|\n",
            "|2023-08-01 10:09:00|2023-08-01 10:12:00|\n",
            "|2023-08-01 10:15:00|2023-08-01 11:21:00|\n",
            "|2023-08-02 11:26:00|2023-08-02 11:44:00|\n",
            "|2023-08-02 19:56:00|2023-08-02 20:06:00|\n",
            "|2023-08-01 09:01:00|2023-08-01 09:03:00|\n",
            "|2023-08-01 10:00:00|2023-08-01 10:04:00|\n",
            "|2023-08-01 21:05:00|2023-08-01 21:07:00|\n",
            "|2023-08-02 20:03:00|2023-08-02 20:05:00|\n",
            "+-------------------+-------------------+\n",
            "only showing top 20 rows\n",
            "\n",
            "+-------------------+-------------------+---------------------+\n",
            "|  Issue_reported at|    issue_responded|response_time_minutes|\n",
            "+-------------------+-------------------+---------------------+\n",
            "|2023-08-01 11:13:00|2023-08-01 11:47:00|                 34.0|\n",
            "|2023-08-01 12:52:00|2023-08-01 12:54:00|                  2.0|\n",
            "|2023-08-01 20:16:00|2023-08-01 20:38:00|                 22.0|\n",
            "|2023-08-01 20:56:00|2023-08-01 21:16:00|                 20.0|\n",
            "|2023-08-01 10:30:00|2023-08-01 10:32:00|                  2.0|\n",
            "|2023-08-01 15:13:00|2023-08-01 18:39:00|                206.0|\n",
            "|2023-08-01 15:31:00|2023-08-01 23:52:00|                501.0|\n",
            "|2023-08-01 16:17:00|2023-08-01 16:23:00|                  6.0|\n",
            "|2023-08-01 21:03:00|2023-08-01 21:07:00|                  4.0|\n",
            "|2023-08-01 23:31:00|2023-08-01 23:36:00|                  5.0|\n",
            "|2023-08-02 18:14:00|2023-08-02 18:16:00|                  2.0|\n",
            "|2023-08-02 10:44:00|2023-08-02 11:14:00|                 30.0|\n",
            "|2023-08-01 10:09:00|2023-08-01 10:12:00|                  3.0|\n",
            "|2023-08-01 10:15:00|2023-08-01 11:21:00|                 66.0|\n",
            "|2023-08-02 11:26:00|2023-08-02 11:44:00|                 18.0|\n",
            "|2023-08-02 19:56:00|2023-08-02 20:06:00|                 10.0|\n",
            "|2023-08-01 09:01:00|2023-08-01 09:03:00|                  2.0|\n",
            "|2023-08-01 10:00:00|2023-08-01 10:04:00|                  4.0|\n",
            "|2023-08-01 21:05:00|2023-08-01 21:07:00|                  2.0|\n",
            "|2023-08-02 20:03:00|2023-08-02 20:05:00|                  2.0|\n",
            "+-------------------+-------------------+---------------------+\n",
            "only showing top 20 rows\n",
            "\n"
          ]
        }
      ]
    },
    {
      "cell_type": "code",
      "source": [
        "df_csv.groupBy(\"category\").agg({\"response_time_minutes\": \"avg\"}).show()"
      ],
      "metadata": {
        "colab": {
          "base_uri": "https://localhost:8080/"
        },
        "id": "wEXZyPbr71Sg",
        "outputId": "4aab341d-4c13-45ca-f30b-cb62d71f49a9"
      },
      "execution_count": 50,
      "outputs": [
        {
          "output_type": "stream",
          "name": "stdout",
          "text": [
            "+------------------+--------------------------+\n",
            "|          category|avg(response_time_minutes)|\n",
            "+------------------+--------------------------+\n",
            "|     Order Related|        112.75397406625598|\n",
            "|  Payments related|          89.2506448839209|\n",
            "|           Returns|          150.337014945683|\n",
            "|      Cancellation|        158.92992766726945|\n",
            "|       App/website|        254.07142857142858|\n",
            "| Shopzilla Related|        101.72922636103152|\n",
            "| Offers & Cashback|        179.58246346555325|\n",
            "|    Refund Related|        143.29384615384615|\n",
            "|   Product Queries|        154.66784069357897|\n",
            "|            Others|        237.95959595959596|\n",
            "|Onboarding related|         40.55384615384615|\n",
            "|          Feedback|        142.69877942458587|\n",
            "+------------------+--------------------------+\n",
            "\n"
          ]
        }
      ]
    },
    {
      "cell_type": "code",
      "source": [
        "df_csv.limit(5).show()"
      ],
      "metadata": {
        "colab": {
          "base_uri": "https://localhost:8080/"
        },
        "id": "MhfzvJqe8cn8",
        "outputId": "d982ec60-400e-4220-a12c-0a2ea8d7b5e7"
      },
      "execution_count": 51,
      "outputs": [
        {
          "output_type": "stream",
          "name": "stdout",
          "text": [
            "+--------------------+------------+---------------+--------------------+----------------+--------------------+---------------+-------------------+-------------------+--------------------+-------------+----------------+----------+-----------------------+-------------------+--------------+---------------+---------------+-----------+----------+-------------+---------------------+\n",
            "|           Unique id|channel_name|       category|        Sub-category|Customer Remarks|            Order_id|order_date_time|  Issue_reported at|    issue_responded|Survey_response_Date|Customer_City|Product_category|Item_price|connected_handling_time|         Agent_name|    Supervisor|        Manager|  Tenure Bucket|Agent Shift|CSAT Score|response_time|response_time_minutes|\n",
            "+--------------------+------------+---------------+--------------------+----------------+--------------------+---------------+-------------------+-------------------+--------------------+-------------+----------------+----------+-----------------------+-------------------+--------------+---------------+---------------+-----------+----------+-------------+---------------------+\n",
            "|7e9ae164-6a8b-452...|     Outcall|Product Queries|      Life Insurance|            NULL|c27c9bb4-fa36-414...|           NULL|2023-08-01 11:13:00|2023-08-01 11:47:00|           01-Aug-23|         NULL|            NULL|      NULL|                   NULL|   Richard Buchanan|   Mason Gupta|Jennifer Nguyen|On Job Training|    Morning|         5|         NULL|                 34.0|\n",
            "|b07ec1b0-f376-43b...|     Outcall|Product Queries|Product Specific ...|            NULL|d406b0c7-ce17-465...|           NULL|2023-08-01 12:52:00|2023-08-01 12:54:00|           01-Aug-23|         NULL|            NULL|      NULL|                   NULL|      Vicki Collins|     Dylan Kim|    Michael Lee|            >90|    Morning|         5|         NULL|                  2.0|\n",
            "|200814dd-27c7-414...|     Inbound|  Order Related|   Installation/demo|            NULL|c273368d-b961-44c...|           NULL|2023-08-01 20:16:00|2023-08-01 20:38:00|           01-Aug-23|         NULL|            NULL|      NULL|                   NULL|       Duane Norman|  Jackson Park|    William Kim|On Job Training|    Evening|         5|         NULL|                 22.0|\n",
            "|eb0d3e53-c1ca-42d...|     Inbound|        Returns|Reverse Pickup En...|            NULL|5aed0059-55a4-4ec...|           NULL|2023-08-01 20:56:00|2023-08-01 21:16:00|           01-Aug-23|         NULL|            NULL|      NULL|                   NULL|     Patrick Flores|   Olivia Wang|     John Smith|            >90|    Evening|         5|         NULL|                 20.0|\n",
            "|ba903143-1e54-406...|     Inbound|   Cancellation|          Not Needed|            NULL|e8bed5a9-6933-4af...|           NULL|2023-08-01 10:30:00|2023-08-01 10:32:00|           01-Aug-23|         NULL|            NULL|      NULL|                   NULL|Christopher Sanchez|Austin Johnson|    Michael Lee|           0-30|    Morning|         5|         NULL|                  2.0|\n",
            "+--------------------+------------+---------------+--------------------+----------------+--------------------+---------------+-------------------+-------------------+--------------------+-------------+----------------+----------+-----------------------+-------------------+--------------+---------------+---------------+-----------+----------+-------------+---------------------+\n",
            "\n"
          ]
        }
      ]
    },
    {
      "cell_type": "code",
      "source": [
        "df_buckets = df_csv.withColumn(\"response_bucket\",\n",
        "    when(col(\"response_time_minutes\") < 5, \"<5 min\")\n",
        "    .when(col(\"response_time_minutes\") < 30, \"5–30 min\")\n",
        "    .when(col(\"response_time_minutes\") < 60, \"30–60 min\")\n",
        "    .otherwise(\">60 min\")\n",
        ")\n",
        "\n",
        "# 2. Pivot to count incidents per time bucket per agent\n",
        "pivot_df = df_buckets.groupBy(\"Agent_name\").pivot(\"response_bucket\").count()\n",
        "\n",
        "# 3. Show the pivot table\n",
        "pivot_df.show()\n"
      ],
      "metadata": {
        "colab": {
          "base_uri": "https://localhost:8080/"
        },
        "id": "3JS0hRrUAc0c",
        "outputId": "7170642c-078c-4963-ebce-5ee651d731dc"
      },
      "execution_count": 54,
      "outputs": [
        {
          "output_type": "stream",
          "name": "stdout",
          "text": [
            "+-----------------+---------+--------+------+-------+\n",
            "|       Agent_name|30–60 min|5–30 min|<5 min|>60 min|\n",
            "+-----------------+---------+--------+------+-------+\n",
            "|   Desiree Torres|        4|      19|    23|     14|\n",
            "|   Carla Anderson|        3|       7|    19|      7|\n",
            "|    Virginia Lane|        5|      28|    63|     15|\n",
            "|  Christine Myers|        6|      20|    28|     17|\n",
            "|        John Dean|     NULL|       9|    10|      2|\n",
            "|     Amanda Sloan|        4|      27|    27|     19|\n",
            "| Alexandra Harris|        3|       2|    14|      8|\n",
            "|       John Wells|        6|      23|    28|     23|\n",
            "|      Jenna Rivas|        8|       9|    31|      9|\n",
            "| Andrea Rasmussen|        3|       9|     9|      7|\n",
            "|Gregory Davenport|        6|      22|    30|     14|\n",
            "|    Eric Williams|     NULL|      10|     7|      5|\n",
            "|     Alyssa Jones|     NULL|       8|    13|      4|\n",
            "|      Gregg Perez|        4|      13|    30|     13|\n",
            "|    Donna Jenkins|        5|      21|    22|     16|\n",
            "| Andrea Wilkerson|        3|      21|    37|     14|\n",
            "|    Donna Gilmore|        4|      23|    40|     18|\n",
            "|      David Mayer|        2|      17|    27|     17|\n",
            "|        Amy Berry|        6|      50|    59|     20|\n",
            "|   Jennifer James|        2|      24|    28|     10|\n",
            "+-----------------+---------+--------+------+-------+\n",
            "only showing top 20 rows\n",
            "\n"
          ]
        }
      ]
    },
    {
      "cell_type": "code",
      "source": [
        "pivot_df.write.csv(\"pivot_table.csv\")"
      ],
      "metadata": {
        "id": "_QhnSQLSBmlb"
      },
      "execution_count": 55,
      "outputs": []
    },
    {
      "cell_type": "code",
      "source": [
        "from pyspark.sql.functions import udf"
      ],
      "metadata": {
        "id": "2e76WZLSBXra"
      },
      "execution_count": 56,
      "outputs": []
    },
    {
      "cell_type": "code",
      "source": [
        "from pyspark.sql.types import StringType\n",
        "\n",
        "def response_time()\n",
        "  for i in\n",
        "\n",
        "size_category = udf(lambda x: \"Large\" if x > 4500 else \"Small\", StringType())\n",
        "df.withColumn(\"size_class\", size_category(df.body_mass_g)).show()"
      ],
      "metadata": {
        "id": "qlNLp_jOCNNB"
      },
      "execution_count": null,
      "outputs": []
    },
    {
      "cell_type": "code",
      "source": [
        "from pyspark.sql.functions import greatest\n",
        "\n",
        "pivot_df.withColumn(\"the most range of response time\", greatest(col(\"30–60 min\"), col(\"5–30 min\"), col(\"<5 min\"),col(\">60 min\"))).show()"
      ],
      "metadata": {
        "colab": {
          "base_uri": "https://localhost:8080/"
        },
        "id": "gdkWNTMbDzVT",
        "outputId": "8b123b89-e15d-4979-99fb-ef51148dd1fb"
      },
      "execution_count": 59,
      "outputs": [
        {
          "output_type": "stream",
          "name": "stdout",
          "text": [
            "+-----------------+---------+--------+------+-------+-------------------------------+\n",
            "|       Agent_name|30–60 min|5–30 min|<5 min|>60 min|the most range of response time|\n",
            "+-----------------+---------+--------+------+-------+-------------------------------+\n",
            "|   Desiree Torres|        4|      19|    23|     14|                             23|\n",
            "|   Carla Anderson|        3|       7|    19|      7|                             19|\n",
            "|    Virginia Lane|        5|      28|    63|     15|                             63|\n",
            "|  Christine Myers|        6|      20|    28|     17|                             28|\n",
            "|        John Dean|     NULL|       9|    10|      2|                             10|\n",
            "|     Amanda Sloan|        4|      27|    27|     19|                             27|\n",
            "| Alexandra Harris|        3|       2|    14|      8|                             14|\n",
            "|       John Wells|        6|      23|    28|     23|                             28|\n",
            "|      Jenna Rivas|        8|       9|    31|      9|                             31|\n",
            "| Andrea Rasmussen|        3|       9|     9|      7|                              9|\n",
            "|Gregory Davenport|        6|      22|    30|     14|                             30|\n",
            "|    Eric Williams|     NULL|      10|     7|      5|                             10|\n",
            "|     Alyssa Jones|     NULL|       8|    13|      4|                             13|\n",
            "|      Gregg Perez|        4|      13|    30|     13|                             30|\n",
            "|    Donna Jenkins|        5|      21|    22|     16|                             22|\n",
            "| Andrea Wilkerson|        3|      21|    37|     14|                             37|\n",
            "|    Donna Gilmore|        4|      23|    40|     18|                             40|\n",
            "|      David Mayer|        2|      17|    27|     17|                             27|\n",
            "|        Amy Berry|        6|      50|    59|     20|                             59|\n",
            "|   Jennifer James|        2|      24|    28|     10|                             28|\n",
            "+-----------------+---------+--------+------+-------+-------------------------------+\n",
            "only showing top 20 rows\n",
            "\n"
          ]
        }
      ]
    },
    {
      "cell_type": "code",
      "source": [
        "from pyspark.sql import SparkSession\n",
        "from pyspark.sql.window import Window\n",
        "import pyspark.sql.functions as F\n",
        "\n",
        "# Initialize SparkSession\n",
        "spark = SparkSession.builder.appName(\"WindowExample\").getOrCreate()\n",
        "\n",
        "# Example data\n",
        "data = [\n",
        "    (\"Alice\", \"2025-05-01\", 100),\n",
        "    (\"Bob\", \"2025-05-01\", 150),\n",
        "    (\"Alice\", \"2025-05-02\", 200),\n",
        "    (\"Bob\", \"2025-05-02\", 50),\n",
        "    (\"Alice\", \"2025-05-03\", 300),\n",
        "    (\"Bob\", \"2025-05-03\", 100)\n",
        "]\n",
        "\n",
        "# Create DataFrame\n",
        "columns = [\"salesperson\", \"date\", \"sales\"]\n",
        "df = spark.createDataFrame(data, columns)\n",
        "\n",
        "# Define window specification\n",
        "window_spec = Window.partitionBy(\"salesperson\").orderBy(\"date\")\n",
        "\n",
        "# Calculate cumulative sum of sales\n",
        "df_with_cumsum = df.withColumn(\"cumulative_sales\", F.sum(\"sales\").over(window_spec))\n",
        "\n",
        "# Show result\n",
        "df_with_cumsum.show()\n"
      ],
      "metadata": {
        "colab": {
          "base_uri": "https://localhost:8080/"
        },
        "id": "Xxt8lJorITRU",
        "outputId": "3d184f1d-fbe1-4c31-ca81-248c93798fe8"
      },
      "execution_count": 62,
      "outputs": [
        {
          "output_type": "stream",
          "name": "stdout",
          "text": [
            "+-----------+----------+-----+----------------+\n",
            "|salesperson|      date|sales|cumulative_sales|\n",
            "+-----------+----------+-----+----------------+\n",
            "|      Alice|2025-05-01|  100|             100|\n",
            "|      Alice|2025-05-02|  200|             300|\n",
            "|      Alice|2025-05-03|  300|             600|\n",
            "|        Bob|2025-05-01|  150|             150|\n",
            "|        Bob|2025-05-02|   50|             200|\n",
            "|        Bob|2025-05-03|  100|             300|\n",
            "+-----------+----------+-----+----------------+\n",
            "\n"
          ]
        }
      ]
    },
    {
      "cell_type": "code",
      "source": [],
      "metadata": {
        "id": "o9enGwdcITyP"
      },
      "execution_count": null,
      "outputs": []
    }
  ],
  "metadata": {
    "colab": {
      "provenance": []
    },
    "kernelspec": {
      "display_name": "Python 3",
      "name": "python3"
    },
    "language_info": {
      "name": "python"
    }
  },
  "nbformat": 4,
  "nbformat_minor": 0
}